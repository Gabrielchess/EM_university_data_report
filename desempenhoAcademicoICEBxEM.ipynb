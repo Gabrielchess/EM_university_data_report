{
 "cells": [
  {
   "cell_type": "markdown",
   "metadata": {},
   "source": [
    "<h2>Vamos comparar a Escola de Minas com o ICEB !!!<h3>"
   ]
  },
  {
   "cell_type": "code",
   "execution_count": 1,
   "metadata": {},
   "outputs": [],
   "source": [
    "import warnings\n",
    "warnings.simplefilter(action='ignore', category=FutureWarning)\n",
    "\n",
    "import pandas as pd\n",
    "import numpy as np\n",
    "\n",
    "#importando banco de dado sobre reprovados.\n",
    "PRO = pd.read_excel('aprovacao_PRO.xlt')\n",
    "PRO['CURSO'] = 'PRO'\n",
    "GEO = pd.read_excel('aprovacao_GEO.xlt')\n",
    "GEO['CURSO'] = 'GEO'\n",
    "MEC = pd.read_excel('aprovacao_MEC.xlt')\n",
    "MEC['CURSO'] = 'MEC'\n",
    "ARQ = pd.read_excel('aprovacao_ARQ.xlt')\n",
    "ARQ['CURSO'] = 'ARQ'\n",
    "AMB = pd.read_excel('aprovacao_AMB.xlt')\n",
    "AMB['CURSO'] = 'AMB'\n",
    "CAT = pd.read_excel('aprovacao_CAT.xlt')\n",
    "CAT['CURSO'] = 'CAT'\n",
    "MET = pd.read_excel('aprovacao_MET.xlt')\n",
    "MET['CURSO'] = 'MET'\n",
    "CIV = pd.read_excel('aprovacao_CIV.xlt')\n",
    "CIV['CURSO'] = 'CIV'\n",
    "MIN = pd.read_excel('aprovacao_MIN.xlt')\n",
    "MIN['CURSO'] = 'MIN'"
   ]
  },
  {
   "cell_type": "markdown",
   "metadata": {},
   "source": [
    "Para unir os bancos de dados vamos limpar cada dataframe dadas suas particularidades."
   ]
  },
  {
   "cell_type": "code",
   "execution_count": 2,
   "metadata": {},
   "outputs": [],
   "source": [
    "#Excluir observação no dataframe:\n",
    "PRO = PRO.drop([7055,7056])\n",
    "#Nas disciplinas do básico não foi possivel separar o total de alunos de Eng de Produção.\n",
    "\n",
    "#Padronizo o cabeçalho\n",
    "ARQ = ARQ.rename(columns={\"ANO.1\": \"SEMESTRE\",\"ANO.2\": \"DISCIPLINA\",\"ANO.3\": \"DESCRICAO\",\"ANO.4\": \"DEPARTAMENTO\",\"ANO.5\": \"TURMA\",\"ANO.6\": \"APROVACOES\",\"ANO.7\": \"MATRICULAS\",\"ANO.8\": \"REPROVACOES FALTA\"})\n",
    "\n",
    "#Excluo colunas nulas.\n",
    "AMB = AMB.drop(columns=['Unnamed: 12','Unnamed: 13','Unnamed: 14','Unnamed: 15'])\n",
    "CAT = CAT.drop(columns=['COD PREDIO'])\n",
    "ARQ = ARQ.drop(columns=['COD PREDIO'])\n",
    "\n",
    "#Crio a coluna 'DEPARTAMENTO' para o dataframe PRO.\n",
    "PRO['DEPARTAMENTO'] = PRO['DISCIPLINA']\n",
    "PRO['DEPARTAMENTO'] = PRO['DEPARTAMENTO'].map(lambda x: str(x)[:-3])\n",
    "PRO['DE'] = 'DE'\n",
    "PRO['DEPARTAMENTO'] = PRO['DE'] + PRO['DEPARTAMENTO']\n",
    "PRO = PRO.drop(columns=['DE'])\n",
    "PRO['DEPARTAMENTO'] = PRO['DEPARTAMENTO'].str.replace('DEMTM','DEMAT')\n",
    "PRO['DEPARTAMENTO'] = PRO['DEPARTAMENTO'].str.replace('DEBCC','DECOM')\n",
    "PRO['DEPARTAMENTO'] = PRO['DEPARTAMENTO'].str.replace('DECIC','DECOM')"
   ]
  },
  {
   "cell_type": "code",
   "execution_count": 3,
   "metadata": {},
   "outputs": [],
   "source": [
    "#Unindo todas os bancos de dados\n",
    "Aprovacoes_EM = pd.concat([PRO,AMB,CAT,GEO,CIV,MIN,MET,MEC,ARQ], ignore_index=False)"
   ]
  },
  {
   "cell_type": "code",
   "execution_count": 4,
   "metadata": {},
   "outputs": [],
   "source": [
    "#excluindo anos indesejados\n",
    "Aprovacoes_EM['ANO'] = Aprovacoes_EM['ANO'].astype(int)\n",
    "Aprovacoes_EM = Aprovacoes_EM.loc[(Aprovacoes_EM['ANO'] > 2003)]\n",
    "Aprovacoes_EM = Aprovacoes_EM.loc[(Aprovacoes_EM['ANO'] != 2020)]\n",
    "\n",
    "#Limpo a coluna 'SEMESTRE'\n",
    "Aprovacoes_EM['SEMESTRE'] = (Aprovacoes_EM.SEMESTRE.astype(str).str.split('.', expand = True))"
   ]
  },
  {
   "cell_type": "code",
   "execution_count": 5,
   "metadata": {},
   "outputs": [],
   "source": [
    "#Vamos criar uma nova coluna unindo as colunas Ano e Semestre\n",
    "Aprovacoes_EM['ANO_SEMESTRE'] = Aprovacoes_EM.apply(lambda Aprovacoes_EM:'%s.%s' % (Aprovacoes_EM['ANO'],Aprovacoes_EM['SEMESTRE']),axis=1)\n",
    "Aprovacoes_EM = Aprovacoes_EM.drop(columns=['ANO','SEMESTRE'])"
   ]
  },
  {
   "cell_type": "code",
   "execution_count": 6,
   "metadata": {},
   "outputs": [],
   "source": [
    "#Organizando as colunas\n",
    "Aprovacoes_EM = (Aprovacoes_EM[['ANO_SEMESTRE','CURSO','DEPARTAMENTO', 'DISCIPLINA', 'DESCRICAO', 'TURMA','APROVACOES', 'MATRICULAS', 'REPROVACOES FALTA', 'REPROVACOES NOTA','REPROVACOES NOTA FALTA', 'TRANCAMENTOS']]).reset_index()\n",
    "Aprovacoes_EM = Aprovacoes_EM.drop(columns=['index'])"
   ]
  },
  {
   "cell_type": "code",
   "execution_count": 7,
   "metadata": {},
   "outputs": [],
   "source": [
    "#Finalmente crio as colunas com a taxa de aprovacoes e reprovacoes\n",
    "Aprovacoes_EM['Taxa_aprovação'] = round(Aprovacoes_EM['APROVACOES']/Aprovacoes_EM['MATRICULAS'],2)\n",
    "Aprovacoes_EM['Reprovacao_nota'] = round(Aprovacoes_EM['REPROVACOES NOTA']/Aprovacoes_EM['MATRICULAS'],2)\n",
    "Aprovacoes_EM['Reprovacao_falta'] = round(Aprovacoes_EM['REPROVACOES NOTA FALTA']/Aprovacoes_EM['MATRICULAS'],2)"
   ]
  },
  {
   "cell_type": "code",
   "execution_count": 8,
   "metadata": {},
   "outputs": [
    {
     "data": {
      "text/html": [
       "<div>\n",
       "<style scoped>\n",
       "    .dataframe tbody tr th:only-of-type {\n",
       "        vertical-align: middle;\n",
       "    }\n",
       "\n",
       "    .dataframe tbody tr th {\n",
       "        vertical-align: top;\n",
       "    }\n",
       "\n",
       "    .dataframe thead th {\n",
       "        text-align: right;\n",
       "    }\n",
       "</style>\n",
       "<table border=\"1\" class=\"dataframe\">\n",
       "  <thead>\n",
       "    <tr style=\"text-align: right;\">\n",
       "      <th></th>\n",
       "      <th>ANO_SEMESTRE</th>\n",
       "      <th>CURSO</th>\n",
       "      <th>DEPARTAMENTO</th>\n",
       "      <th>DISCIPLINA</th>\n",
       "      <th>DESCRICAO</th>\n",
       "      <th>TURMA</th>\n",
       "      <th>APROVACOES</th>\n",
       "      <th>MATRICULAS</th>\n",
       "      <th>REPROVACOES FALTA</th>\n",
       "      <th>REPROVACOES NOTA</th>\n",
       "      <th>REPROVACOES NOTA FALTA</th>\n",
       "      <th>TRANCAMENTOS</th>\n",
       "      <th>Taxa_aprovação</th>\n",
       "      <th>Reprovacao_nota</th>\n",
       "      <th>Reprovacao_falta</th>\n",
       "    </tr>\n",
       "  </thead>\n",
       "  <tbody>\n",
       "    <tr>\n",
       "      <th>57937</th>\n",
       "      <td>2019.2</td>\n",
       "      <td>ARQ</td>\n",
       "      <td>DEMAT</td>\n",
       "      <td>MTM500</td>\n",
       "      <td>FUNDAMENTOS DE CALCULO</td>\n",
       "      <td>32.0</td>\n",
       "      <td>27.0</td>\n",
       "      <td>55.0</td>\n",
       "      <td>1.0</td>\n",
       "      <td>18.0</td>\n",
       "      <td>9.0</td>\n",
       "      <td>0.0</td>\n",
       "      <td>0.49</td>\n",
       "      <td>0.33</td>\n",
       "      <td>0.16</td>\n",
       "    </tr>\n",
       "    <tr>\n",
       "      <th>57938</th>\n",
       "      <td>2019.2</td>\n",
       "      <td>ARQ</td>\n",
       "      <td>DEMAT</td>\n",
       "      <td>MTM500</td>\n",
       "      <td>FUNDAMENTOS DE CALCULO</td>\n",
       "      <td>33.0</td>\n",
       "      <td>32.0</td>\n",
       "      <td>49.0</td>\n",
       "      <td>0.0</td>\n",
       "      <td>8.0</td>\n",
       "      <td>8.0</td>\n",
       "      <td>1.0</td>\n",
       "      <td>0.65</td>\n",
       "      <td>0.16</td>\n",
       "      <td>0.16</td>\n",
       "    </tr>\n",
       "    <tr>\n",
       "      <th>57939</th>\n",
       "      <td>2019.2</td>\n",
       "      <td>ARQ</td>\n",
       "      <td>DEPRO</td>\n",
       "      <td>PRO562</td>\n",
       "      <td>EFICIENCIA E CONSERVACAO DE ENERGIA</td>\n",
       "      <td>11.0</td>\n",
       "      <td>30.0</td>\n",
       "      <td>34.0</td>\n",
       "      <td>0.0</td>\n",
       "      <td>0.0</td>\n",
       "      <td>0.0</td>\n",
       "      <td>4.0</td>\n",
       "      <td>0.88</td>\n",
       "      <td>0.00</td>\n",
       "      <td>0.00</td>\n",
       "    </tr>\n",
       "    <tr>\n",
       "      <th>57940</th>\n",
       "      <td>2019.2</td>\n",
       "      <td>ARQ</td>\n",
       "      <td>DEPRO</td>\n",
       "      <td>PRO562</td>\n",
       "      <td>EFICIENCIA E CONSERVACAO DE ENERGIA</td>\n",
       "      <td>12.0</td>\n",
       "      <td>1.0</td>\n",
       "      <td>1.0</td>\n",
       "      <td>0.0</td>\n",
       "      <td>0.0</td>\n",
       "      <td>0.0</td>\n",
       "      <td>0.0</td>\n",
       "      <td>1.00</td>\n",
       "      <td>0.00</td>\n",
       "      <td>0.00</td>\n",
       "    </tr>\n",
       "    <tr>\n",
       "      <th>57941</th>\n",
       "      <td>2019.2</td>\n",
       "      <td>ARQ</td>\n",
       "      <td>DEURB</td>\n",
       "      <td>URB416</td>\n",
       "      <td>GEOTECNIA APLICADA A ARQUITETURA E AO URBANISMO</td>\n",
       "      <td>11.0</td>\n",
       "      <td>29.0</td>\n",
       "      <td>30.0</td>\n",
       "      <td>0.0</td>\n",
       "      <td>0.0</td>\n",
       "      <td>0.0</td>\n",
       "      <td>1.0</td>\n",
       "      <td>0.97</td>\n",
       "      <td>0.00</td>\n",
       "      <td>0.00</td>\n",
       "    </tr>\n",
       "  </tbody>\n",
       "</table>\n",
       "</div>"
      ],
      "text/plain": [
       "      ANO_SEMESTRE CURSO DEPARTAMENTO DISCIPLINA  \\\n",
       "57937       2019.2   ARQ        DEMAT     MTM500   \n",
       "57938       2019.2   ARQ        DEMAT     MTM500   \n",
       "57939       2019.2   ARQ        DEPRO     PRO562   \n",
       "57940       2019.2   ARQ        DEPRO     PRO562   \n",
       "57941       2019.2   ARQ        DEURB     URB416   \n",
       "\n",
       "                                             DESCRICAO  TURMA  APROVACOES  \\\n",
       "57937                           FUNDAMENTOS DE CALCULO   32.0        27.0   \n",
       "57938                           FUNDAMENTOS DE CALCULO   33.0        32.0   \n",
       "57939              EFICIENCIA E CONSERVACAO DE ENERGIA   11.0        30.0   \n",
       "57940              EFICIENCIA E CONSERVACAO DE ENERGIA   12.0         1.0   \n",
       "57941  GEOTECNIA APLICADA A ARQUITETURA E AO URBANISMO   11.0        29.0   \n",
       "\n",
       "       MATRICULAS  REPROVACOES FALTA  REPROVACOES NOTA  \\\n",
       "57937        55.0                1.0              18.0   \n",
       "57938        49.0                0.0               8.0   \n",
       "57939        34.0                0.0               0.0   \n",
       "57940         1.0                0.0               0.0   \n",
       "57941        30.0                0.0               0.0   \n",
       "\n",
       "       REPROVACOES NOTA FALTA  TRANCAMENTOS  Taxa_aprovação  Reprovacao_nota  \\\n",
       "57937                     9.0           0.0            0.49             0.33   \n",
       "57938                     8.0           1.0            0.65             0.16   \n",
       "57939                     0.0           4.0            0.88             0.00   \n",
       "57940                     0.0           0.0            1.00             0.00   \n",
       "57941                     0.0           1.0            0.97             0.00   \n",
       "\n",
       "       Reprovacao_falta  \n",
       "57937              0.16  \n",
       "57938              0.16  \n",
       "57939              0.00  \n",
       "57940              0.00  \n",
       "57941              0.00  "
      ]
     },
     "execution_count": 8,
     "metadata": {},
     "output_type": "execute_result"
    }
   ],
   "source": [
    "Aprovacoes_EM.tail()"
   ]
  },
  {
   "cell_type": "code",
   "execution_count": 9,
   "metadata": {},
   "outputs": [
    {
     "data": {
      "text/html": [
       "<div>\n",
       "<style scoped>\n",
       "    .dataframe tbody tr th:only-of-type {\n",
       "        vertical-align: middle;\n",
       "    }\n",
       "\n",
       "    .dataframe tbody tr th {\n",
       "        vertical-align: top;\n",
       "    }\n",
       "\n",
       "    .dataframe thead th {\n",
       "        text-align: right;\n",
       "    }\n",
       "</style>\n",
       "<table border=\"1\" class=\"dataframe\">\n",
       "  <thead>\n",
       "    <tr style=\"text-align: right;\">\n",
       "      <th></th>\n",
       "      <th>CURSO</th>\n",
       "      <th>Taxa_aprovação</th>\n",
       "    </tr>\n",
       "  </thead>\n",
       "  <tbody>\n",
       "    <tr>\n",
       "      <th>0</th>\n",
       "      <td>AMB</td>\n",
       "      <td>0.683462</td>\n",
       "    </tr>\n",
       "    <tr>\n",
       "      <th>1</th>\n",
       "      <td>ARQ</td>\n",
       "      <td>0.799556</td>\n",
       "    </tr>\n",
       "    <tr>\n",
       "      <th>2</th>\n",
       "      <td>CAT</td>\n",
       "      <td>0.695049</td>\n",
       "    </tr>\n",
       "    <tr>\n",
       "      <th>3</th>\n",
       "      <td>CIV</td>\n",
       "      <td>0.683188</td>\n",
       "    </tr>\n",
       "    <tr>\n",
       "      <th>4</th>\n",
       "      <td>GEO</td>\n",
       "      <td>0.703639</td>\n",
       "    </tr>\n",
       "    <tr>\n",
       "      <th>5</th>\n",
       "      <td>MEC</td>\n",
       "      <td>0.667554</td>\n",
       "    </tr>\n",
       "    <tr>\n",
       "      <th>6</th>\n",
       "      <td>MET</td>\n",
       "      <td>0.698366</td>\n",
       "    </tr>\n",
       "    <tr>\n",
       "      <th>7</th>\n",
       "      <td>MIN</td>\n",
       "      <td>0.699649</td>\n",
       "    </tr>\n",
       "    <tr>\n",
       "      <th>8</th>\n",
       "      <td>PRO</td>\n",
       "      <td>0.685229</td>\n",
       "    </tr>\n",
       "  </tbody>\n",
       "</table>\n",
       "</div>"
      ],
      "text/plain": [
       "  CURSO  Taxa_aprovação\n",
       "0   AMB        0.683462\n",
       "1   ARQ        0.799556\n",
       "2   CAT        0.695049\n",
       "3   CIV        0.683188\n",
       "4   GEO        0.703639\n",
       "5   MEC        0.667554\n",
       "6   MET        0.698366\n",
       "7   MIN        0.699649\n",
       "8   PRO        0.685229"
      ]
     },
     "execution_count": 9,
     "metadata": {},
     "output_type": "execute_result"
    }
   ],
   "source": [
    "(pd.DataFrame(Aprovacoes_EM.groupby('CURSO').Taxa_aprovação.mean())).reset_index()\n"
   ]
  },
  {
   "cell_type": "code",
   "execution_count": 10,
   "metadata": {},
   "outputs": [
    {
     "data": {
      "text/plain": [
       "AMB         AxesSubplot(0.1,0.679412;0.235294x0.220588)\n",
       "ARQ    AxesSubplot(0.382353,0.679412;0.235294x0.220588)\n",
       "CAT    AxesSubplot(0.664706,0.679412;0.235294x0.220588)\n",
       "CIV         AxesSubplot(0.1,0.414706;0.235294x0.220588)\n",
       "GEO    AxesSubplot(0.382353,0.414706;0.235294x0.220588)\n",
       "MEC    AxesSubplot(0.664706,0.414706;0.235294x0.220588)\n",
       "MET             AxesSubplot(0.1,0.15;0.235294x0.220588)\n",
       "MIN        AxesSubplot(0.382353,0.15;0.235294x0.220588)\n",
       "PRO        AxesSubplot(0.664706,0.15;0.235294x0.220588)\n",
       "dtype: object"
      ]
     },
     "execution_count": 10,
     "metadata": {},
     "output_type": "execute_result"
    }
   ],
   "source": [
    "Aprovacoes_EM[['Taxa_aprovação','CURSO']].groupby('CURSO').boxplot(fontsize=12, figsize=(8,10))\n",
    "#pegar o desvio padráo e dividir pela raiz quadrada do tamanho do n (erro padrao)"
   ]
  },
  {
   "cell_type": "markdown",
   "metadata": {},
   "source": [
    "Acima vemos a primera ideia do que queremos. Apesar de mostrar qual curso é mais dificil aqui misturamos matérias obrigatórias e eletivas em diferentes departamentos e épocas. \n",
    "\n",
    "Vamos identificar quais matérias são da EM ou do ICEB, quais são obrigatórias, eletivas ou deixaram de ser ofertadas."
   ]
  },
  {
   "cell_type": "markdown",
   "metadata": {},
   "source": [
    "<h3>Precisamos identificar a Escola de cada matéria.<h3>"
   ]
  },
  {
   "cell_type": "code",
   "execution_count": 11,
   "metadata": {},
   "outputs": [],
   "source": [
    "#Crio o banco de dado com os departamentos da EM e do ICEB\n",
    "ICEB = pd.DataFrame({'ESCOLA':'ICEB','DEPARTAMENTO': ['DEFIS','DEMAT','DEQUI','DECOM','DEEST','DEBIO','DECBI']})\n",
    "EM = pd.DataFrame({'ESCOLA':'ESCOLA DE MINAS', 'DEPARTAMENTO' : ['DECAT','DEMET','DEPRO','DEARQ','DECIV','DEGEO','DEMIN','DEAMB','DEMEC','DEURB']})"
   ]
  },
  {
   "cell_type": "code",
   "execution_count": 12,
   "metadata": {
    "scrolled": true
   },
   "outputs": [],
   "source": [
    "#Vamos unir os três bancos de dados\n",
    "Aprovacoes_EM = Aprovacoes_EM.merge(EM,on='DEPARTAMENTO',how = 'outer').merge(ICEB,on='DEPARTAMENTO',how = 'outer')\n",
    "\n",
    "#Gambiarras da brabas, náo repitam isso em casa!!!!\n",
    "Aprovacoes_EM['ESCOLA_x'] = Aprovacoes_EM['ESCOLA_x'].fillna('')\n",
    "Aprovacoes_EM['ESCOLA_y'] = Aprovacoes_EM['ESCOLA_y'].fillna('')\n",
    "Aprovacoes_EM['ESCOLA'] = Aprovacoes_EM['ESCOLA_x'] + Aprovacoes_EM['ESCOLA_y']\n",
    "Aprovacoes_EM['ESCOLA'] = Aprovacoes_EM['ESCOLA'].fillna('')\n",
    "\n",
    "Aprovacoes_EM['ESCOLA'] = Aprovacoes_EM['ESCOLA'].replace({'': 'OUTRAS'})\n",
    "Aprovacoes_EM = Aprovacoes_EM.drop(columns=['ESCOLA_x','ESCOLA_y'])"
   ]
  },
  {
   "cell_type": "markdown",
   "metadata": {},
   "source": [
    "Devo ler todas as matrizes curriculares e descobrir quais são voluntárias e obrigatórias!!\n",
    "\n",
    "Desafio muito interessante! Vamos trabalhar!!"
   ]
  },
  {
   "cell_type": "markdown",
   "metadata": {},
   "source": [
    "Limpeza de todos os bancos de dados da Matriz Curricular."
   ]
  },
  {
   "cell_type": "code",
   "execution_count": 13,
   "metadata": {},
   "outputs": [],
   "source": [
    "#Excluo valores nulos, renomeio colunas, excluo colunas nulas e incorretas, adiciono um indicador para cada curso.\n",
    "Grade_MEC = pd.read_excel('matrizMEC.xlsx')\n",
    "Grade_MEC = (Grade_MEC.dropna()).reset_index().drop(columns = 'index')\n",
    "Grade_MEC['CURSO'] = 'MEC'\n",
    "\n",
    "Grade_CIV = pd.read_excel('matrizCIV.xlsx')\n",
    "Grade_CIV = (Grade_CIV.dropna()).reset_index().drop(columns = 'index')\n",
    "Grade_CIV['CURSO'] = 'CIV'\n",
    "\n",
    "Grade_MET = pd.read_excel('matrizMET.xlsx')\n",
    "Grade_MET = Grade_MET.drop(columns = ['Unnamed: 2','Unnamed: 3','Unnamed: 4','Unnamed: 5','Unnamed: 6','Unnamed: 7','Unnamed: 8','Unnamed: 9','Unnamed: 10'])\n",
    "Grade_MET.columns = [\"CÓDIGO\", \"DISCIPLINAS OBRIGATÓRIAS\"]\n",
    "Grade_MET = Grade_MET.drop([0])\n",
    "Grade_MET = (Grade_MET.dropna()).reset_index().drop(columns = 'index')\n",
    "Grade_MET['CURSO'] = 'MET'\n",
    "\n",
    "Grade_PRO = pd.read_excel('matrizPRO.xlsx')\n",
    "Grade_PRO = Grade_PRO.drop(columns = ['Unnamed: 2','Unnamed: 3','Unnamed: 4','Unnamed: 5','Unnamed: 6','Unnamed: 7','Unnamed: 8'])\n",
    "Grade_PRO.columns = [\"CÓDIGO\", \"DISCIPLINAS OBRIGATÓRIAS\"]\n",
    "Grade_PRO = Grade_PRO.drop([0])\n",
    "Grade_PRO = (Grade_PRO.dropna()).reset_index().drop(columns = 'index')\n",
    "Grade_PRO['CURSO'] = 'PRO'\n",
    "\n",
    "\n",
    "Grade_MIN = pd.read_excel('matrizMIN.xlsx')\n",
    "Grade_MIN = Grade_MIN.drop(columns = ['Unnamed: 2','Unnamed: 3','Unnamed: 4','Unnamed: 5','Unnamed: 6','Unnamed: 7','Unnamed: 8','Unnamed: 9'])\n",
    "Grade_MIN = (Grade_MIN.dropna()).reset_index().drop(columns = 'index')\n",
    "Grade_MIN['CURSO'] = 'MIN'\n",
    "\n",
    "Grade_GEO = pd.read_excel('matrizGEO.xlsx')\n",
    "Grade_GEO = (Grade_GEO.dropna()).reset_index().drop(columns = 'index')\n",
    "Grade_GEO['CURSO'] = 'GEO'\n",
    "\n",
    "Grade_AUT = pd.read_excel('matrizAUT.xlsx')\n",
    "Grade_AUT = Grade_AUT.drop(columns = ['Unnamed: 2','Unnamed: 3','Unnamed: 4','Unnamed: 5','Unnamed: 6','Unnamed: 7','Unnamed: 8'])\n",
    "Grade_AUT.columns = [\"CÓDIGO\", \"DISCIPLINAS OBRIGATÓRIAS\"]\n",
    "Grade_AUT = Grade_AUT.drop([0])\n",
    "Grade_AUT = (Grade_AUT.dropna()).reset_index().drop(columns = 'index')\n",
    "Grade_AUT['CURSO'] = 'AUT'\n",
    "\n",
    "Grade_AMB = pd.read_excel('matrizAMB.xlsx')\n",
    "Grade_AMB = Grade_AMB.drop(columns = ['Unnamed: 2','Unnamed: 3','Unnamed: 4','Unnamed: 5','Unnamed: 6','Unnamed: 7'])\n",
    "Grade_AMB = (Grade_AMB.dropna()).reset_index().drop(columns = 'index')\n",
    "Grade_AMB['CURSO'] = 'AMB'\n",
    "\n",
    "#Problema em identificar matérias eletivas\n",
    "Grade_ARQ = pd.read_excel('matrizARQ.xlsx')\n",
    "Grade_ARQ = Grade_ARQ.drop(columns = ['Unnamed: 2','Unnamed: 3','Unnamed: 4','Unnamed: 5','Unnamed: 6','Unnamed: 7','Unnamed: 8','Unnamed: 9','Unnamed: 10'])\n",
    "Grade_ARQ.columns = [\"CÓDIGO\", \"DISCIPLINAS OBRIGATÓRIAS\"]\n",
    "Grade_ARQ = Grade_ARQ.drop([0])\n",
    "Grade_ARQ = (Grade_ARQ.dropna()).reset_index().drop(columns = 'index')\n",
    "Grade_ARQ['CURSO'] = 'ARQ'"
   ]
  },
  {
   "cell_type": "code",
   "execution_count": 14,
   "metadata": {},
   "outputs": [],
   "source": [
    "#Neste banco de dado sobre a grade curricular, as matérias obrigatórias são separadas das eletivas por uma string chamada \"CÓDIGO\"\n",
    "\n",
    "#ENGENHARIA GEOLOGICA\n",
    "m = Grade_GEO['CÓDIGO'].unique()\n",
    "local_codigo_GEO = np.where(m == \"CÓDIGO\")[0][0]\n",
    "obrigatorias_GEO = pd.DataFrame(m[0:local_codigo_GEO])\n",
    "obrigatorias_GEO['VINCULO'] = 'OBRIGATORIA'\n",
    "\n",
    "eletivas_GEO = pd.DataFrame(m[local_codigo_GEO:len(m)])\n",
    "eletivas_GEO.drop(eletivas_GEO.head(1).index, inplace=True)\n",
    "eletivas_GEO['VINCULO'] = 'ELETIVA'\n",
    "\n",
    "Vinculo_GEO = pd.concat([eletivas_GEO,obrigatorias_GEO], ignore_index=False)\n",
    "Vinculo_GEO = Vinculo_GEO.rename(columns={0: \"DISCIPLINA\"})\n",
    "Vinculo_GEO['CURSO'] = 'GEO'\n",
    "\n",
    "#ENGENHARIA DE PRODUCAO\n",
    "m = Grade_PRO['CÓDIGO'].unique()\n",
    "local_codigo_PRO = np.where(m == \"ELETIVAS\")[0][0]\n",
    "obrigatorias_PRO = pd.DataFrame(m[0:local_codigo_PRO])\n",
    "obrigatorias_PRO['VINCULO'] = 'OBRIGATORIA'\n",
    "\n",
    "eletivas_PRO = pd.DataFrame(m[local_codigo_PRO:len(m)])\n",
    "eletivas_PRO.drop(eletivas_PRO.head(1).index, inplace=True)\n",
    "eletivas_PRO['VINCULO'] = 'ELETIVA'\n",
    "\n",
    "Vinculo_PRO = pd.concat([eletivas_PRO,obrigatorias_PRO], ignore_index=False)\n",
    "Vinculo_PRO = Vinculo_PRO.rename(columns={0: \"DISCIPLINA\"})\n",
    "Vinculo_PRO['CURSO'] = 'PRO'\n",
    "\n",
    "#ENGENHARIA DE MINAS\n",
    "m = Grade_MIN['CÓDIGO'].unique()\n",
    "local_codigo_MIN = np.where(m == \"CÓDIGO\")[0][0]\n",
    "obrigatorias_MIN = pd.DataFrame(m[0:local_codigo_MIN])\n",
    "obrigatorias_MIN['VINCULO'] = 'OBRIGATORIA'\n",
    "\n",
    "eletivas_MIN = pd.DataFrame(m[local_codigo_MIN:len(m)])\n",
    "eletivas_MIN.drop(eletivas_MIN.head(1).index, inplace=True)\n",
    "eletivas_MIN['VINCULO'] = 'ELETIVA'\n",
    "\n",
    "Vinculo_MIN = pd.concat([eletivas_MIN,obrigatorias_MIN], ignore_index=False)\n",
    "Vinculo_MIN = Vinculo_MIN.rename(columns={0: \"DISCIPLINA\"})\n",
    "Vinculo_MIN['CURSO'] = 'MIN'\n",
    "\n",
    "#ENGENHARIA AMBIENTAL\n",
    "m = Grade_AMB['CÓDIGO'].unique()\n",
    "local_codigo_AMB = np.where(m == \"CÓDIGO\")[0][0]\n",
    "obrigatorias_AMB = pd.DataFrame(m[0:local_codigo_AMB])\n",
    "obrigatorias_AMB['VINCULO'] = 'OBRIGATORIA'\n",
    "\n",
    "eletivas_AMB = pd.DataFrame(m[local_codigo_AMB:len(m)])\n",
    "eletivas_AMB.drop(eletivas_AMB.head(1).index, inplace=True)\n",
    "eletivas_AMB['VINCULO'] = 'ELETIVA'\n",
    "\n",
    "Vinculo_AMB = pd.concat([eletivas_AMB,obrigatorias_AMB], ignore_index=False)\n",
    "Vinculo_AMB = Vinculo_AMB.rename(columns={0: \"DISCIPLINA\"})\n",
    "Vinculo_AMB['CURSO'] = 'AMB'\n",
    "\n",
    "#ENGENHARIA METALURGICA\n",
    "m = Grade_MET['CÓDIGO'].unique()\n",
    "local_codigo_MET = np.where(m == \"CÓDIGO\")[0][0]\n",
    "obrigatorias_MET = pd.DataFrame(m[0:local_codigo_MET])\n",
    "obrigatorias_MET['VINCULO'] = 'OBRIGATORIA'\n",
    "\n",
    "eletivas_MET = pd.DataFrame(m[local_codigo_MET:len(m)])\n",
    "eletivas_MET.drop(eletivas_MET.head(1).index, inplace=True)\n",
    "eletivas_MET['VINCULO'] = 'ELETIVA'\n",
    "\n",
    "Vinculo_MET = pd.concat([eletivas_MET,obrigatorias_MET], ignore_index=False)\n",
    "Vinculo_MET = Vinculo_MET.rename(columns={0: \"DISCIPLINA\"})\n",
    "Vinculo_MET['CURSO'] = 'MET'\n",
    "\n",
    "#ENGENHARIA MECANINCA\n",
    "m = Grade_MEC['CÓDIGO'].unique()\n",
    "local_codigo_MEC = np.where(m == \"CÓDIGO\")[0][0]\n",
    "obrigatorias_MEC = pd.DataFrame(m[0:local_codigo_MEC])\n",
    "obrigatorias_MEC['VINCULO'] = 'OBRIGATORIA'\n",
    "\n",
    "eletivas_MEC = pd.DataFrame(m[local_codigo_MEC:len(m)])\n",
    "eletivas_MEC.drop(eletivas_MEC.head(1).index, inplace=True)\n",
    "eletivas_MEC['VINCULO'] = 'ELETIVA'\n",
    "\n",
    "Vinculo_MEC = pd.concat([eletivas_MEC,obrigatorias_MEC], ignore_index=False)\n",
    "Vinculo_MEC = Vinculo_MEC.rename(columns={0: \"DISCIPLINA\"})\n",
    "Vinculo_MEC['CURSO'] = 'MEC'\n",
    "\n",
    "#ARQUITETURA\n",
    "m = Grade_ARQ['CÓDIGO'].unique()\n",
    "local_codigo_ARQ = np.where(m == \"CÓDIGO\")[0][0]\n",
    "obrigatorias_ARQ = pd.DataFrame(m[0:local_codigo_ARQ])\n",
    "obrigatorias_ARQ['VINCULO'] = 'OBRIGATORIA'\n",
    "\n",
    "eletivas_ARQ = pd.DataFrame(m[local_codigo_ARQ:len(m)])\n",
    "eletivas_ARQ.drop(eletivas_ARQ.head(1).index, inplace=True)\n",
    "eletivas_ARQ['VINCULO'] = 'ELETIVA'\n",
    "\n",
    "Vinculo_ARQ = pd.concat([eletivas_ARQ,obrigatorias_ARQ], ignore_index=False)\n",
    "Vinculo_ARQ = Vinculo_ARQ.rename(columns={0: \"DISCIPLINA\"})\n",
    "Vinculo_ARQ['CURSO'] = 'ARQ'\n",
    "\n",
    "#ENGENHARIA CIVIL\n",
    "m = Grade_CIV['CÓDIGO'].unique()\n",
    "local_codigo_CIV = np.where(m == \"CÓDIGO\")[0][0]\n",
    "obrigatorias_CIV = pd.DataFrame(m[0:local_codigo_CIV])\n",
    "obrigatorias_CIV['VINCULO'] = 'OBRIGATORIA'\n",
    "\n",
    "eletivas_CIV = pd.DataFrame(m[local_codigo_CIV:len(m)])\n",
    "eletivas_CIV.drop(eletivas_CIV.head(1).index, inplace=True)\n",
    "eletivas_CIV['VINCULO'] = 'ELETIVA'\n",
    "\n",
    "Vinculo_CIV = pd.concat([eletivas_CIV,obrigatorias_CIV], ignore_index=False)\n",
    "Vinculo_CIV = Vinculo_CIV.rename(columns={0: \"DISCIPLINA\"})\n",
    "Vinculo_CIV['CURSO'] = 'CIV'\n",
    "\n",
    "#ENGENHARIA DE CONTROLE E AUTOMAÇÃO\n",
    "m = Grade_AUT['CÓDIGO'].unique()\n",
    "local_codigo_AUT = np.where(m == \"CODIGO\")[0][0]\n",
    "obrigatorias_AUT = pd.DataFrame(m[0:local_codigo_AUT])\n",
    "obrigatorias_AUT['VINCULO'] = 'OBRIGATORIA'\n",
    "\n",
    "eletivas_AUT = pd.DataFrame(m[local_codigo_AUT:len(m)])\n",
    "eletivas_AUT.drop(eletivas_AUT.head(1).index, inplace=True)\n",
    "eletivas_AUT['VINCULO'] = 'ELETIVA'\n",
    "\n",
    "Vinculo_AUT = pd.concat([eletivas_AUT,obrigatorias_AUT], ignore_index=False)\n",
    "Vinculo_AUT = Vinculo_AUT.rename(columns={0: \"DISCIPLINA\"})\n",
    "Vinculo_AUT['CURSO'] = 'CAT'\n",
    "\n",
    "Vinculo = pd.concat([Vinculo_AUT,Vinculo_AMB,Vinculo_MIN,Vinculo_MET,Vinculo_MEC,Vinculo_PRO,Vinculo_GEO,Vinculo_CIV,Vinculo_ARQ], ignore_index=False)"
   ]
  },
  {
   "cell_type": "code",
   "execution_count": 15,
   "metadata": {},
   "outputs": [],
   "source": [
    "Aprovacoes_EM = Aprovacoes_EM.merge(Vinculo,on=['DISCIPLINA','CURSO'],how = 'left')\n",
    "Aprovacoes_EM['VINCULO'] = Aprovacoes_EM['VINCULO'].replace(np.nan, 'EXTINTA', regex=True)\n",
    "Aprovacoes_EM['Taxa_aprovação'] = Aprovacoes_EM['Taxa_aprovação'].fillna(0)"
   ]
  },
  {
   "cell_type": "code",
   "execution_count": 16,
   "metadata": {},
   "outputs": [],
   "source": [
    "Disciplinas_zeradas = (pd.DataFrame(Aprovacoes_EM[['Taxa_aprovação','DISCIPLINA','CURSO']].loc[(Aprovacoes_EM['Taxa_aprovação'] == 0)]))\n",
    "#Disciplinas_zeradas['DISCIPLINA'].unique()"
   ]
  },
  {
   "cell_type": "code",
   "execution_count": 17,
   "metadata": {},
   "outputs": [],
   "source": [
    "#Vamos criar filtros para analisar estatisticamente cada atributo."
   ]
  },
  {
   "cell_type": "code",
   "execution_count": 43,
   "metadata": {},
   "outputs": [],
   "source": [
    "Obrigatorias = Aprovacoes_EM.loc[(Aprovacoes_EM['VINCULO'] == 'ELETIVA')]\n",
    "Obrigatorias_EM = Obrigatorias.loc[(Obrigatorias['ESCOLA'] == 'ICEB')] "
   ]
  },
  {
   "cell_type": "code",
   "execution_count": 44,
   "metadata": {},
   "outputs": [],
   "source": [
    "Selecao_PRO = Obrigatorias_EM.loc[(Obrigatorias_EM['CURSO'] == 'PRO')]\n",
    "Selecao_PRO = Selecao_PRO[['Taxa_aprovação','CURSO']]\n",
    "\n",
    "Selecao_MIN = Obrigatorias_EM.loc[(Obrigatorias_EM['CURSO'] == 'MIN')]\n",
    "Selecao_MIN = Selecao_MIN[['Taxa_aprovação','CURSO']]\n",
    "\n",
    "Selecao_MET = Obrigatorias_EM.loc[(Obrigatorias_EM['CURSO'] == 'MET')]\n",
    "Selecao_MET = Selecao_MET[['Taxa_aprovação','CURSO']]\n",
    "\n",
    "Selecao_CAT = Obrigatorias_EM.loc[(Obrigatorias_EM['CURSO'] == 'CAT')]\n",
    "Selecao_CAT = Selecao_CAT[['Taxa_aprovação','CURSO']]\n",
    "\n",
    "Selecao_ARQ = Obrigatorias_EM.loc[(Obrigatorias_EM['CURSO'] == 'ARQ')]\n",
    "Selecao_ARQ = Selecao_ARQ[['Taxa_aprovação','CURSO']]\n",
    "\n",
    "Selecao_CIV = Obrigatorias_EM.loc[(Obrigatorias_EM['CURSO'] == 'CIV')]\n",
    "Selecao_CIV = Selecao_CIV[['Taxa_aprovação','CURSO']]\n",
    "\n",
    "Selecao_MEC = Obrigatorias_EM.loc[(Obrigatorias_EM['CURSO'] == 'MEC')]\n",
    "Selecao_MEC = Selecao_MEC[['Taxa_aprovação','CURSO']]\n",
    "\n",
    "Selecao_AMB = Obrigatorias_EM.loc[(Obrigatorias_EM['CURSO'] == 'AMB')]\n",
    "Selecao_AMB = Selecao_AMB[['Taxa_aprovação','CURSO']]\n",
    "\n",
    "Selecao_GEO = Obrigatorias_EM.loc[(Obrigatorias_EM['CURSO'] == 'GEO')]\n",
    "Selecao_GEO = Selecao_GEO[['Taxa_aprovação','CURSO']]"
   ]
  },
  {
   "cell_type": "code",
   "execution_count": 45,
   "metadata": {},
   "outputs": [
    {
     "name": "stderr",
     "output_type": "stream",
     "text": [
      "C:\\Users\\James Bond\\Anaconda3\\lib\\site-packages\\numpy\\core\\_asarray.py:83: VisibleDeprecationWarning: Creating an ndarray from ragged nested sequences (which is a list-or-tuple of lists-or-tuples-or ndarrays with different lengths or shapes) is deprecated. If you meant to do this, you must specify 'dtype=object' when creating the ndarray\n",
      "  return array(a, dtype, copy=False, order=order)\n"
     ]
    },
    {
     "data": {
      "image/png": "[encoded data removed]",
      "text/plain": [
       "<Figure size 648x432 with 1 Axes>"
      ]
     },
     "metadata": {},
     "output_type": "display_data"
    }
   ],
   "source": [
    "data_to_plot = [Selecao_GEO['Taxa_aprovação'], Selecao_AMB['Taxa_aprovação'], Selecao_PRO['Taxa_aprovação'], Selecao_ARQ['Taxa_aprovação'], Selecao_CIV['Taxa_aprovação'], Selecao_CAT['Taxa_aprovação'], Selecao_MIN['Taxa_aprovação'], Selecao_MET['Taxa_aprovação'], Selecao_MEC['Taxa_aprovação']]\n",
    "\n",
    "import matplotlib.pyplot as plt \n",
    "\n",
    "# Create a figure instance\n",
    "fig = plt.figure(1, figsize=(9, 6))\n",
    "\n",
    "# Create an axes instance\n",
    "ax = fig.add_subplot(111)\n",
    "\n",
    "# Create the boxplot\n",
    "bp = ax.boxplot(data_to_plot, patch_artist=True)\n",
    "\n",
    "## change outline color, fill color and linewidth of the boxes\n",
    "for box in bp['boxes']:\n",
    "    # change outline color\n",
    "    box.set( color='#7570b3', linewidth=2)\n",
    "    # change fill color\n",
    "    box.set( facecolor = '#FF0000' )\n",
    "    \n",
    "## change color and linewidth of the whiskers\n",
    "for whisker in bp['whiskers']:\n",
    "    whisker.set(color='#7570b3', linewidth=2)\n",
    "    \n",
    "## change color and linewidth of the caps\n",
    "for cap in bp['caps']:\n",
    "    cap.set(color='#7570b3', linewidth=2)\n",
    "    \n",
    "## change color and linewidth of the medians\n",
    "for median in bp['medians']:\n",
    "    median.set(color='#b2df8a', linewidth=2)\n",
    "\n",
    "## change the style of fliers and their fill\n",
    "for flier in bp['fliers']:\n",
    "    flier.set(marker='o', color='#e7298a', alpha=0.5)\n",
    "    \n",
    "## Custom x-axis labels\n",
    "ax.set_xticklabels([\"GEO\",\"AMB\",\"PRO\",\"ARQ\",\"CIV\",\"CAT\",\"MIN\",\"MET\",'MEC'],size = 18)\n",
    "\n",
    "#config of labels ans title\n",
    "ax.set_ylabel('Porcentagem de Aprovados',size = 18)\n",
    "\n",
    "# Save the figure\n",
    "fig.savefig('fig1.png', bbox_inches='tight')"
   ]
  },
  {
   "cell_type": "code",
   "execution_count": 56,
   "metadata": {},
   "outputs": [],
   "source": [
    "Aprovacoes_EM.to_csv('Desempenho_acadêmico_EM.csv')"
   ]
  },
  {
   "cell_type": "code",
   "execution_count": 22,
   "metadata": {},
   "outputs": [
    {
     "data": {
      "text/plain": [
       "GEO    AxesSubplot(0.1,0.15;0.8x0.75)\n",
       "dtype: object"
      ]
     },
     "execution_count": 22,
     "metadata": {},
     "output_type": "execute_result"
    },
    {
     "data": {
      "image/png": "[encoded data removed]",
      "text/plain": [
       "<Figure size 576x720 with 1 Axes>"
      ]
     },
     "metadata": {},
     "output_type": "display_data"
    }
   ],
   "source": [
    "import matplotlib.pyplot as plt\n",
    "\n",
    "green_diamond = dict(markerfacecolor='R', marker='s')\n",
    "Selecao_GEO.groupby('CURSO').boxplot(fontsize=12, figsize=(8,10), flierprops=green_diamond)"
   ]
  },
  {
   "cell_type": "code",
   "execution_count": 23,
   "metadata": {},
   "outputs": [
    {
     "data": {
      "text/plain": [
       "AMB         AxesSubplot(0.1,0.679412;0.235294x0.220588)\n",
       "ARQ    AxesSubplot(0.382353,0.679412;0.235294x0.220588)\n",
       "CAT    AxesSubplot(0.664706,0.679412;0.235294x0.220588)\n",
       "CIV         AxesSubplot(0.1,0.414706;0.235294x0.220588)\n",
       "GEO    AxesSubplot(0.382353,0.414706;0.235294x0.220588)\n",
       "MEC    AxesSubplot(0.664706,0.414706;0.235294x0.220588)\n",
       "MET             AxesSubplot(0.1,0.15;0.235294x0.220588)\n",
       "MIN        AxesSubplot(0.382353,0.15;0.235294x0.220588)\n",
       "PRO        AxesSubplot(0.664706,0.15;0.235294x0.220588)\n",
       "dtype: object"
      ]
     },
     "execution_count": 23,
     "metadata": {},
     "output_type": "execute_result"
    },
    {
     "data": {
      "image/png": "[encoded data removed]",
      "text/plain": [
       "<Figure size 576x720 with 9 Axes>"
      ]
     },
     "metadata": {},
     "output_type": "display_data"
    }
   ],
   "source": [
    "import matplotlib.pyplot as plt\n",
    "\n",
    "green_diamond = dict(markerfacecolor='R', marker='s')\n",
    "Obrigatorias_EM[['Taxa_aprovação','CURSO']].groupby('CURSO').boxplot(fontsize=12, figsize=(8,10), flierprops=green_diamond)"
   ]
  },
  {
   "cell_type": "code",
   "execution_count": 24,
   "metadata": {},
   "outputs": [
    {
     "data": {
      "text/html": [
       "<div>\n",
       "<style scoped>\n",
       "    .dataframe tbody tr th:only-of-type {\n",
       "        vertical-align: middle;\n",
       "    }\n",
       "\n",
       "    .dataframe tbody tr th {\n",
       "        vertical-align: top;\n",
       "    }\n",
       "\n",
       "    .dataframe thead th {\n",
       "        text-align: right;\n",
       "    }\n",
       "</style>\n",
       "<table border=\"1\" class=\"dataframe\">\n",
       "  <thead>\n",
       "    <tr style=\"text-align: right;\">\n",
       "      <th></th>\n",
       "      <th>Taxa_aprovação</th>\n",
       "    </tr>\n",
       "    <tr>\n",
       "      <th>CURSO</th>\n",
       "      <th></th>\n",
       "    </tr>\n",
       "  </thead>\n",
       "  <tbody>\n",
       "    <tr>\n",
       "      <th>AMB</th>\n",
       "      <td>0.536008</td>\n",
       "    </tr>\n",
       "    <tr>\n",
       "      <th>ARQ</th>\n",
       "      <td>0.625227</td>\n",
       "    </tr>\n",
       "    <tr>\n",
       "      <th>CAT</th>\n",
       "      <td>0.558343</td>\n",
       "    </tr>\n",
       "    <tr>\n",
       "      <th>CIV</th>\n",
       "      <td>0.543992</td>\n",
       "    </tr>\n",
       "    <tr>\n",
       "      <th>GEO</th>\n",
       "      <td>0.553088</td>\n",
       "    </tr>\n",
       "    <tr>\n",
       "      <th>MEC</th>\n",
       "      <td>0.557766</td>\n",
       "    </tr>\n",
       "    <tr>\n",
       "      <th>MET</th>\n",
       "      <td>0.552486</td>\n",
       "    </tr>\n",
       "    <tr>\n",
       "      <th>MIN</th>\n",
       "      <td>0.548937</td>\n",
       "    </tr>\n",
       "    <tr>\n",
       "      <th>PRO</th>\n",
       "      <td>0.583542</td>\n",
       "    </tr>\n",
       "  </tbody>\n",
       "</table>\n",
       "</div>"
      ],
      "text/plain": [
       "       Taxa_aprovação\n",
       "CURSO                \n",
       "AMB          0.536008\n",
       "ARQ          0.625227\n",
       "CAT          0.558343\n",
       "CIV          0.543992\n",
       "GEO          0.553088\n",
       "MEC          0.557766\n",
       "MET          0.552486\n",
       "MIN          0.548937\n",
       "PRO          0.583542"
      ]
     },
     "execution_count": 24,
     "metadata": {},
     "output_type": "execute_result"
    }
   ],
   "source": [
    "pd.DataFrame(Obrigatorias_EM[['Taxa_aprovação','CURSO']].groupby('CURSO').mean())"
   ]
  },
  {
   "cell_type": "code",
   "execution_count": 25,
   "metadata": {},
   "outputs": [],
   "source": [
    "#Aprovacoes_EM[['Taxa_aprovação','CURSO']].groupby('CURSO').boxplot(rot=45, fontsize=12, figsize=(8,10))"
   ]
  },
  {
   "cell_type": "code",
   "execution_count": null,
   "metadata": {},
   "outputs": [],
   "source": []
  }
 ],
 "metadata": {
  "kernelspec": {
   "display_name": "Python 3",
   "language": "python",
   "name": "python3"
  },
  "language_info": {
   "codemirror_mode": {
    "name": "ipython",
    "version": 3
   },
   "file_extension": ".py",
   "mimetype": "text/x-python",
   "name": "python",
   "nbconvert_exporter": "python",
   "pygments_lexer": "ipython3",
   "version": "3.6.5"
  }
 },
 "nbformat": 4,
 "nbformat_minor": 2
}
